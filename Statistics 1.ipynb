{
 "cells": [
  {
   "cell_type": "markdown",
   "id": "93fc8645-f6aa-4186-a226-e65c717e9cb4",
   "metadata": {},
   "source": [
    "Q1. What is Statistics?\n",
    "\n",
    "Statistics is the science of collecting, organizing and analyzing raw data which helps in decision making process in the form of visualization"
   ]
  },
  {
   "cell_type": "markdown",
   "id": "75484adf-f29d-4a5b-9361-4c5cde4fdf99",
   "metadata": {},
   "source": [
    "Q2. Define the different types of statistics and give an example of when each type might be used."
   ]
  },
  {
   "cell_type": "markdown",
   "id": "34b281e3-6875-4de3-8a7b-b32727a8d2a7",
   "metadata": {},
   "source": [
    "a. Descriptive Statistics:\n",
    "    Consist of organizing and summarizing the data. Eg. Measure of Central Tendancy(Mean, Median, Mode)\n",
    "    \n",
    "b. Inferential Statistics:Use data to measure and form conclusion (z-test, p-test, t-test)\n",
    "    "
   ]
  },
  {
   "cell_type": "markdown",
   "id": "26cc3139-dd32-4f78-87c8-4c174fb6c1da",
   "metadata": {},
   "source": [
    "Q3. What are the different types of data and how do they differ from each other? Provide an example of\n",
    "each type of data."
   ]
  },
  {
   "cell_type": "markdown",
   "id": "fa62dbad-af93-4a75-8d9e-0646f3a6f160",
   "metadata": {},
   "source": [
    "Types of Data:\n",
    "\n",
    "    Quantitative: Futher divided into Discrete and Continuous Eg. of Discrete Data is No. of students in a classroom and Eg. of Continuous data is Weight of a student.\n",
    "    \n",
    "    Qualitative: Futher divided into Nominal and Ordinal. Eg. of Nominal data is Gender, Blood-Group, Department, eg. of ordinal data is Qualification that the person has"
   ]
  },
  {
   "cell_type": "markdown",
   "id": "973a8669-5366-4a7b-9629-33532e1de7d4",
   "metadata": {},
   "source": [
    "Q4. Categorise the following datasets with respect to quantitative and qualitative data types:\n",
    "\n",
    "(i) Grading in exam: A+, A, B+, B, C+, C, D, E: Qualitative\n",
    "\n",
    "(ii) Colour of mangoes: yellow, green, orange, red: Qualitative\n",
    "\n",
    "(iii) Height data of a class: [178.9, 179, 179.5, 176, 177.2, 178.3, 175.8,...]: Quantitative\n",
    "\n",
    "(iv) Number of mangoes exported by a farm: [500, 600, 478, 672, ...]: Quantitative"
   ]
  },
  {
   "cell_type": "markdown",
   "id": "42778414-76c4-4b43-b038-0395760efc18",
   "metadata": {},
   "source": [
    "Q5. Explain the concept of levels of measurement and give an example of a variable for each level."
   ]
  },
  {
   "cell_type": "markdown",
   "id": "4dcd5dbe-522f-44e8-92f5-4ced96446a58",
   "metadata": {},
   "source": [
    "\"levels of measurement\" of a variable,is a measure, or a scale to distinguish between measured variables that have different properties. There are four basic levels: nominal, ordinal, interval, and ratio.\n",
    "\n",
    "a. nominal : Qualitative/ Categorical Data eg. Gender, Bloodgroup\n",
    "\n",
    "b. Ordinal : Rank and order matters Eg. Qualification\n",
    "\n",
    "c. Interval: Rank and order matters, Difference can be measured except ratio eg. temperature\n",
    "\n",
    "d. Ratio: Rank and order matters, Difference and radio can also be measured, Interval starts with 0. Eg. Marks of students in a class"
   ]
  },
  {
   "cell_type": "markdown",
   "id": "a3d66171-13b7-49a4-bfb3-5db0a0eccf06",
   "metadata": {},
   "source": [
    "Q6. Why is it important to understand the level of measurement when analyzing data? Provide an\n",
    "example to illustrate your answer."
   ]
  },
  {
   "cell_type": "markdown",
   "id": "5f779cb9-7151-4ec5-8a1d-7c593f82a6a2",
   "metadata": {},
   "source": [
    "Understanding the level of measurement is important when analyzing data because it determines the type of statistical analysis that can be used and the interpretation of the results. Different levels of measurement have different properties and can be analyzed using different statistical methods. If the level of measurement is not taken into account, it can lead to inappropriate analysis and misinterpretation of the results.\n",
    "\n",
    "For example, consider a survey question that asks respondents to rate their satisfaction with a product on a scale of 1 to 5. The level of measurement in this case is ordinal, as the responses are ranked on an ordered scale. Therefore, it would not be appropriate to calculate the mean satisfaction score or use certain statistical tests, such as a t-test, which assumes that the data is normally distributed. Instead, it would be more appropriate to use non-parametric tests, such as the Mann-Whitney U-test, which do not assume normal distribution and can handle ordinal data."
   ]
  },
  {
   "cell_type": "markdown",
   "id": "d80a879e-a3e8-45cd-864f-c668f856e524",
   "metadata": {},
   "source": [
    "Q7. How nominal data type is different from ordinal data type.\n",
    "\n",
    "Nominal data type cannot be ordered or ranked whileordinal data type can be ordinal and ranked as well."
   ]
  },
  {
   "cell_type": "markdown",
   "id": "b9116d3e-99e8-4f8c-a9d5-5b20b5fbb86d",
   "metadata": {},
   "source": [
    "Q8. Which type of plot can be used to display data in terms of range?\n",
    "\n"
   ]
  },
  {
   "cell_type": "markdown",
   "id": "6e6505ad-c15e-4089-af17-e8ea8313a557",
   "metadata": {},
   "source": [
    "Box plot"
   ]
  },
  {
   "cell_type": "markdown",
   "id": "7c2e6455-a329-49e0-a0eb-61c2f0ed1440",
   "metadata": {},
   "source": [
    "Q9. Describe the difference between descriptive and inferential statistics. Give an example of each\n",
    "type of statistics and explain how they are used."
   ]
  },
  {
   "cell_type": "markdown",
   "id": "0941dbe0-3d74-469c-b89a-e4f5be0776b6",
   "metadata": {},
   "source": [
    "Descriptive statistics are used to describe and summarize data sets in a meaningful way. It includes measures of central tendency (such as mean, median, and mode), measures of variability (such as range, standard deviation, and variance), and graphical representations (such as histograms, bar graphs, and scatter plots). Descriptive statistics are used to analyze data sets and identify patterns, trends, and relationships within the data. For example, suppose we want to describe the average age of students in a class.\n",
    "\n",
    "Inferential statistics are used to make generalizations or predictions about a population based on a sample of data. It involves using the data from a sample to draw conclusions about the larger population from which the sample was taken. Inferential statistics are used to test hypotheses, estimate parameters, and make predictions. For example, suppose we want to know the average height of all college students in a particular country. It is not practical to measure every college student, so we can take a random sample of college students and use inferential statistics to estimate the population mean height based on the sample mean."
   ]
  },
  {
   "cell_type": "markdown",
   "id": "9f609bf8-7c23-4c9e-a2ba-304245d8eca9",
   "metadata": {},
   "source": [
    "Q10. What are some common measures of central tendency and variability used in statistics? Explain\n",
    "how each measure can be used to describe a dataset."
   ]
  },
  {
   "cell_type": "markdown",
   "id": "89644f45-07b2-4b62-8ddc-ea41868b5582",
   "metadata": {},
   "source": [
    "Measures of central tendency and variability are important descriptive statistics used to summarize and understand datasets. Here are some common measures of central tendency and variability:\n",
    "\n",
    "Mean: The mean is the average value of a dataset. It is calculated by adding up all the values in the dataset and dividing by the total number of values. The mean can be used to describe the typical value in a dataset.\n",
    "\n",
    "Median: The median is the middle value of a dataset when the values are arranged in order. It is useful when a dataset has extreme values or outliers that may affect the mean. The median can be used to describe the central value of a dataset.\n",
    "\n",
    "Mode: The mode is the value that occurs most frequently in a dataset. It is useful when a dataset has multiple peaks or clusters of values. The mode can be used to describe the most common value in a dataset.\n",
    "\n",
    "Range: The range is the difference between the largest and smallest values in a dataset. It can be used to describe the spread or variability of a dataset.\n",
    "\n",
    "Variance: The variance is a measure of the spread of a dataset around the mean. It is calculated by subtracting each value in the dataset from the mean, squaring the result, and then adding up all the squared values and dividing by the total number of values minus one. The variance can be used to describe the degree of variability or dispersion of a dataset.\n",
    "\n",
    "Standard deviation: The standard deviation is the square root of the variance. It is a commonly used measure of variability in statistics. A low standard deviation indicates that the values in a dataset are tightly clustered around the mean, while a high standard deviation indicates that the values are spread out more widely.\n",
    "\n",
    "Each of these measures provides important information about a dataset, and they can be used in combination to provide a more complete understanding of the data. For example, the mean, median, and mode can be used together to describe the central tendency of a dataset, while the range, variance, and standard deviation can be used together to describe the variability of a dataset.\n",
    "\n",
    "\n",
    "\n"
   ]
  },
  {
   "cell_type": "code",
   "execution_count": null,
   "id": "9888bca0-e329-4d33-92f2-1a3bd5acd32a",
   "metadata": {},
   "outputs": [],
   "source": []
  }
 ],
 "metadata": {
  "kernelspec": {
   "display_name": "Python 3 (ipykernel)",
   "language": "python",
   "name": "python3"
  },
  "language_info": {
   "codemirror_mode": {
    "name": "ipython",
    "version": 3
   },
   "file_extension": ".py",
   "mimetype": "text/x-python",
   "name": "python",
   "nbconvert_exporter": "python",
   "pygments_lexer": "ipython3",
   "version": "3.10.8"
  }
 },
 "nbformat": 4,
 "nbformat_minor": 5
}
